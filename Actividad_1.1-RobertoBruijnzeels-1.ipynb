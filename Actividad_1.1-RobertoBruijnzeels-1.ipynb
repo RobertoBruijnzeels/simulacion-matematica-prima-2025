{
 "cells": [
  {
   "cell_type": "markdown",
   "metadata": {},
   "source": [
    "# 📘 **Explicación de Derivadas y Programación Lineal**\n",
    "---\n",
    "## ✨ **Conceptos clave:**\n",
    "🔹 **Derivadas en python**  \n",
    "🔹 **Funciones crecientes y decrecientes**\n",
    "🔹 **Identificación de variables de decisión**  \n",
    "🔹 **Cálculo de derivadas en Python**  \n",
    "🔹 **Optimización con Programación Lineal**  \n",
    "\n",
    "---\n",
    "\n",
    "### 🎯 **Objetivo:**  \n",
    "Comprender el concepto de derivadas, su aplicación en la identificación de funciones crecientes y decrecientes, y aprender a calcularlas usando **Python**. Además, exploraremos cómo aplicar la **programación lineal** para resolver problemas de optimización.\n",
    "\n",
    "---\n",
    "\n",
    "### 📌 **¿Qué necesitas?**  \n",
    "✔️ Conocimientos básicos de cálculo diferencial  \n",
    "✔️ Familiaridad con **Python** y **Jupyter Notebook**  \n",
    "✔️ Ganas de aprender y experimentar 🚀  \n",
    "\n",
    "---\n",
    "\n",
    "**¡Comencemos! 🔥**  \n"
   ]
  },
  {
   "cell_type": "markdown",
   "metadata": {},
   "source": [
    "### **Origen de la derivada**\n",
    "El concepto de derivada surge del trabajo de **Isaac Newton** y **Gottfried Wilhelm Leibniz** en el siglo XVII, quienes desarrollaron el cálculo diferencial e integral de manera independiente.\n",
    "\n",
    "- **Newton** introdujo la derivada en el contexto de la **velocidad instantánea** y el movimiento de los cuerpos.\n",
    "- **Leibniz** la formalizó con su notación dy/dx, que aún se usa hoy en día.\n",
    "\n",
    "Ambos desarrollaron la idea de una tasa de cambio infinitesimal para resolver problemas de **movimiento, optimización y geometría**.\n"
   ]
  },
  {
   "cell_type": "markdown",
   "metadata": {},
   "source": [
    "Dado un punto \\( x=a \\), la derivada \\( f'(a) \\) nos dice si la función está:\n",
    "\n",
    "- **Creciendo** (\\( f'(a) > 0 \\)): la pendiente es positiva, y la curva sube.\n",
    "- **Decreciendo** (\\( f'(a) < 0 \\)): la pendiente es negativa, y la curva baja.\n",
    "- **Constante** (\\( f'(a) = 0 \\)): la pendiente es cero, lo que puede indicar un máximo, un mínimo o un punto de inflexión.\n",
    "\n",
    "Visualmente:\n",
    "\n",
    "https://www.geogebra.org/m/ve5pdft7\n"
   ]
  },
  {
   "cell_type": "markdown",
   "metadata": {},
   "source": [
    "### **Ejemplos de derivadas**\n",
    "1. **Derivada de una función lineal**:  \n",
    "   Si $$ f(x) = 3x + 2 $$ la derivada es:\n",
    "\n",
    "$$\n",
    "   f'(x) = 3\n",
    "$$\n",
    "\n",
    "   Como la función es lineal, su pendiente es constante.\n",
    "\n",
    "2. **Derivada de una función cuadrática**:  \n",
    "   Si $$f(x) = x^2$$ la derivada es:\n",
    "\n",
    "$$\n",
    "   f'(x) = 2x\n",
    "$$\n",
    "\n",
    "   Esto indica que la pendiente cambia en cada punto.\n",
    "\n",
    "3. **Derivada de una función exponencial**:  \n",
    "   Si $$ f(x) = e^x$$ su derivada es:\n",
    "\n",
    "$$\n",
    "   f'(x) = e^x\n",
    "$$\n",
    "\n",
    "   Lo que significa que su tasa de crecimiento es igual a su propio valor.\n"
   ]
  },
  {
   "cell_type": "markdown",
   "metadata": {},
   "source": [
    "# **Formulario de Derivadas**\n",
    "\n",
    "Si \\( U \\) y \\( V \\) son funciones diferenciables, y \\( a, c \\) son constantes, se aplican las siguientes reglas de derivación:\n",
    "\n",
    "---\n",
    "\n",
    "## **Algunas Reglas Básicas**\n",
    "\n",
    "1. **Derivada de una constante**  \n",
    "   $$\n",
    "   \\frac{d}{dx} (c) = 0\n",
    "   $$\n",
    "\n",
    "2. **Regla de la potencia**  \n",
    "   $$\n",
    "   \\frac{d}{dx} (x^n) = n x^{n-1}, \\quad \\text{para } n \\in \\mathbb{R}\n",
    "   $$\n",
    "\n",
    "3. **Derivada de una constante por una función**  \n",
    "   $$\n",
    "   \\frac{d}{dx} (aU) = aU'\n",
    "   $$\n",
    "\n",
    "4. **Regla de la suma/resta**  \n",
    "   $$\n",
    "   \\frac{d}{dx} (U \\pm V) = U' \\pm V'\n",
    "   $$\n",
    "\n",
    "5. **Regla del producto**  \n",
    "   $$\n",
    "   \\frac{d}{dx} (U V) = U' V + U V'\n",
    "   $$\n",
    "\n",
    "6. **Regla del cociente**  \n",
    "   $$\n",
    "   \\frac{d}{dx} \\left( \\frac{U}{V} \\right) = \\frac{U' V - U V'}{V^2}, \\quad V \\neq 0\n",
    "   $$\n",
    "\n",
    "7. **Regla de la cadena**  \n",
    "   $$\n",
    "   \\frac{d}{dx} f(g(x)) = f'(g(x)) \\cdot g'(x)\n",
    "   $$\n",
    "\n",
    "---\n",
    "\n"
   ]
  },
  {
   "cell_type": "markdown",
   "metadata": {},
   "source": [
    "---\n",
    "\n",
    "# 📘 Introducción a las Derivadas en Python\n",
    "## ✨ Reglas de Derivación"
   ]
  },
  {
   "cell_type": "code",
   "execution_count": 1,
   "metadata": {},
   "outputs": [],
   "source": [
    "import sympy as sp\n",
    "from IPython.display import display, Markdown\n",
    "\n",
    "# Definir la variable simbólica\n",
    "x = sp.Symbol('x')\n",
    "a, c = sp.symbols('a c')  # Constantes"
   ]
  },
  {
   "cell_type": "markdown",
   "metadata": {},
   "source": [
    "### 1️⃣ Derivada de una constante\n",
    "$$ \\frac{d}{dx} (c) = 0 $$"
   ]
  },
  {
   "cell_type": "code",
   "execution_count": 2,
   "metadata": {},
   "outputs": [
    {
     "data": {
      "text/latex": [
       "$\\displaystyle 0$"
      ],
      "text/plain": [
       "0"
      ]
     },
     "metadata": {},
     "output_type": "display_data"
    },
    {
     "data": {
      "text/markdown": [
       "Evaluación en x=2: 0"
      ],
      "text/plain": [
       "<IPython.core.display.Markdown object>"
      ]
     },
     "metadata": {},
     "output_type": "display_data"
    }
   ],
   "source": [
    "derivada_constante = sp.diff(c, x)\n",
    "display(derivada_constante)\n",
    "eval_constante = derivada_constante.subs(x, 2)\n",
    "display(Markdown(f\"Evaluación en x=2: {eval_constante}\"))\n"
   ]
  },
  {
   "cell_type": "markdown",
   "metadata": {},
   "source": [
    "### 2️⃣ Regla de la potencia\n",
    "$$ \\frac{d}{dx} (x^n) = n x^{n-1} $$"
   ]
  },
  {
   "cell_type": "code",
   "execution_count": 3,
   "metadata": {},
   "outputs": [
    {
     "data": {
      "text/latex": [
       "$\\displaystyle 3 x^{2}$"
      ],
      "text/plain": [
       "3*x**2"
      ]
     },
     "metadata": {},
     "output_type": "display_data"
    },
    {
     "data": {
      "text/markdown": [
       "Evaluación en x=2: 12"
      ],
      "text/plain": [
       "<IPython.core.display.Markdown object>"
      ]
     },
     "metadata": {},
     "output_type": "display_data"
    }
   ],
   "source": [
    "potencia = x**3\n",
    "derivada_potencia = sp.diff(potencia, x)\n",
    "display(derivada_potencia)\n",
    "eval_potencia = derivada_potencia.subs(x, 2)\n",
    "display(Markdown(f\"Evaluación en x=2: {eval_potencia}\"))"
   ]
  },
  {
   "cell_type": "markdown",
   "metadata": {},
   "source": [
    "### 3️⃣ Derivada de una constante por una función\n",
    "$$ \\frac{d}{dx} (a \\sin x) = a \\cos x $$"
   ]
  },
  {
   "cell_type": "code",
   "execution_count": 4,
   "metadata": {},
   "outputs": [
    {
     "data": {
      "text/latex": [
       "$\\displaystyle a \\cos{\\left(x \\right)}$"
      ],
      "text/plain": [
       "a*cos(x)"
      ]
     },
     "metadata": {},
     "output_type": "display_data"
    },
    {
     "data": {
      "text/markdown": [
       "Evaluación en x=π: -a"
      ],
      "text/plain": [
       "<IPython.core.display.Markdown object>"
      ]
     },
     "metadata": {},
     "output_type": "display_data"
    }
   ],
   "source": [
    "constante_por_funcion = a * sp.sin(x)\n",
    "derivada_constante_por_funcion = sp.diff(constante_por_funcion, x)\n",
    "display(derivada_constante_por_funcion)\n",
    "eval_const_func = derivada_constante_por_funcion.subs(x, sp.pi)\n",
    "display(Markdown(f\"Evaluación en x=π: {eval_const_func}\"))\n",
    "# Cosceno de pi igual a -1 \n",
    "# por lo tanto f(π)=a(−1)=−a"
   ]
  },
  {
   "cell_type": "markdown",
   "metadata": {},
   "source": [
    "### 4️⃣ Regla de la suma/resta\n",
    "$$ \\frac{d}{dx} (x^2 + e^x) = 2x + e^x $$"
   ]
  },
  {
   "cell_type": "code",
   "execution_count": 5,
   "metadata": {},
   "outputs": [
    {
     "data": {
      "text/latex": [
       "$\\displaystyle 2 x + e^{x}$"
      ],
      "text/plain": [
       "2*x + exp(x)"
      ]
     },
     "metadata": {},
     "output_type": "display_data"
    },
    {
     "data": {
      "text/markdown": [
       "Evaluación en x=1: 2 + E"
      ],
      "text/plain": [
       "<IPython.core.display.Markdown object>"
      ]
     },
     "metadata": {},
     "output_type": "display_data"
    }
   ],
   "source": [
    "suma_resta = x**2 + sp.exp(x)\n",
    "derivada_suma_resta = sp.diff(suma_resta, x)\n",
    "display(derivada_suma_resta)\n",
    "eval_suma_resta = derivada_suma_resta.subs(x, 1)\n",
    "display(Markdown(f\"Evaluación en x=1: {eval_suma_resta}\"))"
   ]
  },
  {
   "cell_type": "markdown",
   "metadata": {},
   "source": [
    "### 5️⃣ Regla del producto\n",
    "$$ \\frac{d}{dx} (x \\cos x) = -x \\sin x + \\cos x $$"
   ]
  },
  {
   "cell_type": "code",
   "execution_count": 6,
   "metadata": {},
   "outputs": [
    {
     "data": {
      "text/latex": [
       "$\\displaystyle - x \\sin{\\left(x \\right)} + \\cos{\\left(x \\right)}$"
      ],
      "text/plain": [
       "-x*sin(x) + cos(x)"
      ]
     },
     "metadata": {},
     "output_type": "display_data"
    }
   ],
   "source": [
    "producto = x * sp.cos(x)\n",
    "derivada_producto = sp.diff(producto, x)\n",
    "display(derivada_producto)"
   ]
  },
  {
   "cell_type": "markdown",
   "metadata": {},
   "source": [
    "### 6️⃣ Regla del cociente\n",
    "$$ \\frac{d}{dx} \\left( \\frac{x^2 + 1}{x + 1} \\right) $$"
   ]
  },
  {
   "cell_type": "code",
   "execution_count": 7,
   "metadata": {},
   "outputs": [
    {
     "data": {
      "text/latex": [
       "$\\displaystyle \\frac{2 x}{x + 1} - \\frac{x^{2} + 1}{\\left(x + 1\\right)^{2}}$"
      ],
      "text/plain": [
       "2*x/(x + 1) - (x**2 + 1)/(x + 1)**2"
      ]
     },
     "metadata": {},
     "output_type": "display_data"
    }
   ],
   "source": [
    "cociente = (x**2 + 1) / (x + 1)\n",
    "derivada_cociente = sp.diff(cociente, x)\n",
    "display(derivada_cociente)"
   ]
  },
  {
   "cell_type": "markdown",
   "metadata": {},
   "source": [
    "### 7️⃣ Regla de la cadena\n",
    "$$ \\frac{d}{dx} (\\sin(x^2 + 1)) = 2x \\cos(x^2 + 1) $$"
   ]
  },
  {
   "cell_type": "code",
   "execution_count": 8,
   "metadata": {},
   "outputs": [
    {
     "data": {
      "text/latex": [
       "$\\displaystyle 2 x \\cos{\\left(x^{2} + 1 \\right)}$"
      ],
      "text/plain": [
       "2*x*cos(x**2 + 1)"
      ]
     },
     "metadata": {},
     "output_type": "display_data"
    }
   ],
   "source": [
    "compuesta = sp.sin(x**2 + 1)\n",
    "derivada_compuesta = sp.diff(compuesta, x)\n",
    "display(derivada_compuesta)"
   ]
  },
  {
   "cell_type": "markdown",
   "metadata": {},
   "source": [
    "# 🏭 **Identificación de Variables de Decisión y programación lineal**\n",
    "Pensemos en el siguiente **Problema:** sobre  **Producción de Sillas y Mesas**:\n",
    "\n",
    "Una fábrica produce **sillas** y **mesas**. Cada silla genera **$5 de ganancia** y cada mesa **$8**. La producción está limitada por:  \n",
    "\n",
    "- **40 horas de trabajo disponibles**  \n",
    "- **30 unidades de madera disponibles**  \n",
    "\n",
    "Cada silla requiere **4 horas de trabajo** y **3 unidades de madera**, mientras que cada mesa requiere **5 horas de trabajo** y **6 unidades de madera**.\n",
    "\n",
    "📌 **Objetivo:** Determinar cuántas **sillas** y **mesas** deben producirse para **maximizar la ganancia**.\n",
    "\n",
    "---\n",
    "\n",
    "## 🔍 **Identificación de las Variables de Decisión**\n",
    "Para formular matemáticamente el problema, debemos identificar **qué cantidades queremos determinar**.\n",
    "\n",
    "- **¿Qué estamos decidiendo?** → **Cuántas sillas y mesas producir**  \n",
    "- **Definición matemática:**\n",
    "  - \\( x_1 \\) = Número de **sillas** a producir  \n",
    "  - \\( x_2 \\) = Número de **mesas** a producir  \n",
    "\n",
    "Estas variables definirán la solución del problema.\n",
    "\n",
    "---\n",
    "\n",
    "## 🎯 **¿Qué son las Variables de Decisión?**\n",
    "Las **variables de decisión** son los valores desconocidos que necesitamos determinar para encontrar la mejor solución a un problema de optimización.  \n",
    "Estas variables representan **acciones bajo nuestro control** y afectan la **función objetivo** y las **restricciones**.\n",
    "\n",
    "### ✅ **Características de las Variables de Decisión**\n",
    "✔️ **Deben ser cuantificables** (números reales o enteros).  \n",
    "✔️ **Deben estar bajo nuestro control** dentro del problema.  \n",
    "✔️ **Deben definir completamente la solución**.  \n",
    "\n",
    "En nuestro ejemplo:\n",
    "- \\( x_1 \\) y \\( x_2 \\) **definen la cantidad de productos a fabricar**.\n",
    "- La **función objetivo** dependerá de estas variables.\n",
    "- Las **restricciones** como el tiempo y la madera también dependen de \\( x_1 \\) y \\( x_2 \\).\n",
    "\n",
    "---\n",
    "\n",
    "## 📌 **Pasos para Identificar las Variables de Decisión**\n",
    "### **1️⃣ Leer y Comprender el Problema**\n",
    "Antes de definir las variables, es fundamental entender:\n",
    "- **¿Qué estamos maximizando o minimizando?** (Ejemplo: ganancias, costos, recursos).  \n",
    "- **¿Qué está bajo nuestro control?** (Ejemplo: unidades a producir, recursos a asignar).  \n",
    "\n",
    "### **2️⃣ Identificar las Cantidades a Determinar**\n",
    "Las variables de decisión corresponden a **las incógnitas del problema**.  \n",
    "Algunas preguntas clave:\n",
    "- ¿Qué valores afectan directamente la solución?  \n",
    "- ¿Qué decisiones podemos tomar dentro del problema?  \n",
    "\n",
    "### **3️⃣ Definir las Variables Matemáticamente**\n",
    "Las variables deben representarse con símbolos claros.  \n",
    "En nuestro ejemplo:\n",
    "- **\\( x_1 \\) y \\( x_2 \\)** determinan la solución.\n",
    "- La **función objetivo** se expresa como:\n",
    "  $$\n",
    "  \\max \\quad 5x_1 + 8x_2\n",
    "  $$\n",
    "  donde **\\( x_1 \\)** representa el número de **sillas** a producir y **\\( x_2 \\)** el número de **mesas**.\n",
    "\n",
    "- Las **restricciones** del problema se escriben como ecuaciones en función de \\( x_1 \\) y \\( x_2 \\):\n",
    "\n",
    "  - **Restricción de horas de trabajo**:  \n",
    "    Cada silla requiere **4 horas** y cada mesa **5 horas** de trabajo.  \n",
    "    Como solo hay **40 horas disponibles**, se plantea la restricción:\n",
    "    $$\n",
    "    4x_1 + 5x_2 \\leq 40\n",
    "    $$\n",
    "\n",
    "  - **Restricción de madera**:  \n",
    "    Cada silla requiere **3 unidades de madera** y cada mesa **6 unidades**.  \n",
    "    Como hay **30 unidades disponibles**, la restricción es:\n",
    "    $$\n",
    "    3x_1 + 6x_2 \\leq 30\n",
    "    $$\n",
    "\n",
    "  - **Restricciones de no negatividad**:  \n",
    "    No podemos producir una cantidad negativa de sillas o mesas, por lo que:\n",
    "    $$\n",
    "    x_1 \\geq 0, \\quad x_2 \\geq 0\n",
    "    $$\n",
    "\n",
    "---\n",
    "\n",
    "### **🛠 LHS (Left-Hand Side) y RHS (Right-Hand Side) en las Restricciones**\n",
    "En cualquier ecuación o inecuación matemática, los términos pueden separarse en:\n",
    "\n",
    "- **LHS (Left-Hand Side - Lado Izquierdo)**: Es la parte de la ecuación antes del signo de desigualdad o igualdad.  \n",
    "  - En la restricción de horas de trabajo:  \n",
    "    **LHS** → \\( 4x_1 + 5x_2 \\) representa el **uso total de horas de trabajo**.\n",
    "  \n",
    "  - En la restricción de madera:  \n",
    "    **LHS** → \\( 3x_1 + 6x_2 \\) representa el **uso total de madera**.\n",
    "\n",
    "- **RHS (Right-Hand Side - Lado Derecho)**: Es el valor límite después del signo de desigualdad o igualdad.  \n",
    "  - En la restricción de horas de trabajo:  \n",
    "    **RHS** → \\( 40 \\) representa el **máximo de horas disponibles**.\n",
    "  \n",
    "  - En la restricción de madera:  \n",
    "    **RHS** → \\( 30 \\) representa la **cantidad de madera disponible**.\n",
    "\n",
    "**Ejemplo completo de una restricción desglosada:**\n",
    "$$\n",
    "4x_1 + 5x_2 \\leq 40\n",
    "$$\n",
    "- **LHS** → \\( 4x_1 + 5x_2 \\) (horas requeridas para producción).  \n",
    "- **RHS** → \\( 40 \\) (horas disponibles).  \n",
    "- **Signo \\( \\leq \\)** → Indica que **no podemos exceder las 40 horas disponibles**.\n",
    "\n",
    "### **4️⃣ Verificar la Validez de las Variables**\n",
    "- **¿Las variables permiten expresar la función objetivo?** ✅ Sí.  \n",
    "- **¿Las restricciones dependen de estas variables?** ✅ Sí.  \n",
    "- **¿Tienen sentido en el contexto del problema?** ✅ Sí.  \n",
    "\n",
    "---\n",
    "# Ejemplo práctico de programación lineal"
   ]
  },
  {
   "cell_type": "code",
   "execution_count": 9,
   "metadata": {},
   "outputs": [
    {
     "data": {
      "text/plain": [
       "(np.float64(10.0), np.float64(0.0), 50.0)"
      ]
     },
     "execution_count": 9,
     "metadata": {},
     "output_type": "execute_result"
    }
   ],
   "source": [
    "from scipy.optimize import linprog\n",
    "\n",
    "# Coeficientes de la función objetivo (maximizar 5x1 + 8x2)\n",
    "c = [-5, -8]  # Se usan negativos porque linprog minimiza por defecto\n",
    "\n",
    "# Coeficientes de las restricciones (LHS)\n",
    "A = [\n",
    "    [4, 5],  # Restricción de horas de trabajo [sillas, mesa] \n",
    "    [3, 6]   # Restricción de madera [silla, mesa]\n",
    "]\n",
    "\n",
    "# Lado derecho de las restricciones (RHS)\n",
    "b = [40, 30]\n",
    "\n",
    "# Límites de las variables (no pueden ser negativas)\n",
    "# x_bounds = [(lower_x1, upper_x1), (lower_x2, upper_x2)]\n",
    "# None si no hay límite, o si el limite es infinito\n",
    "x_bounds = [(0, None), (0, None)]\n",
    "\n",
    "# Resolver el problema usando el método símplex\n",
    "resultado = linprog(c, A_ub=A, b_ub=b, bounds=x_bounds, method=\"highs\")\n",
    "\n",
    "# Obtener los valores óptimos de las variables y la ganancia máxima\n",
    "solucion_x1 = resultado.x[0]\n",
    "solucion_x2 = resultado.x[1]\n",
    "ganancia_maxima = -resultado.fun  # Se invierte el signo para obtener la maximización\n",
    "\n",
    "solucion_x1, solucion_x2, ganancia_maxima\n",
    "\n"
   ]
  },
  {
   "cell_type": "markdown",
   "metadata": {},
   "source": [
    "# Veamoslo graficamente"
   ]
  },
  {
   "cell_type": "markdown",
   "metadata": {},
   "source": [
    "Dada la inecuación:\n",
    "\n",
    "$$\n",
    "4x_1 + 5x_2 \\leq 40\n",
    "$$\n",
    "\n",
    "**Despejamos \\( x_2 \\):**\n",
    "1. Restamos \\( 4x_1 \\) en ambos lados:\n",
    "   $$\n",
    "   5x_2 \\leq 40 - 4x_1\n",
    "   $$\n",
    "2. Dividimos todo entre **5**:\n",
    "   $$\n",
    "   x_2 \\leq \\frac{40 - 4x_1}{5}\n",
    "   $$\n",
    "\n",
    "En **Python**, esta expresión se representaría como:\n",
    "\n",
    "```python\n",
    "x2_vals_trabajo = (40 - 4*x1_vals) / 5\n",
    "```\n",
    "Lo mismo para madera\n",
    "\n",
    "```python\n",
    "x2_vals_madera = (30 - 3*x1_vals) / 6\n",
    "```"
   ]
  },
  {
   "cell_type": "code",
   "execution_count": 10,
   "metadata": {},
   "outputs": [
    {
     "data": {
      "image/png": "[encoded data removed]",
      "text/plain": [
       "<Figure size 800x600 with 1 Axes>"
      ]
     },
     "metadata": {},
     "output_type": "display_data"
    }
   ],
   "source": [
    "\n",
    "import numpy as np\n",
    "import matplotlib.pyplot as plt\n",
    "\n",
    "# cada silla require 4 horas, en 40 horas prod\n",
    "# Crear el espacio de valores para x1 y x2\n",
    "x1_vals = np.linspace(0, 10, 100)\n",
    "\n",
    "x2_vals_trabajo = (40 - 4*x1_vals) / 5  # Restricción de horas de trabajo despejando x2\n",
    "x2_vals_madera = (30 - 3*x1_vals) / 6  # Restricción de madera despejando x2\n",
    "\n",
    "# Configurar el gráfico\n",
    "plt.figure(figsize=(8, 6))\n",
    "plt.xlim(0, 12)\n",
    "plt.ylim(0, 10)\n",
    "\n",
    "# Dibujar las restricciones\n",
    "plt.plot(x1_vals, x2_vals_trabajo, label=r'$4x_1 + 5x_2 \\leq 40$', color=\"blue\")\n",
    "plt.plot(x1_vals, x2_vals_madera, label=r'$3x_1 + 6x_2 \\leq 30$', color=\"green\")\n",
    "\n",
    "# Rellenar la región factible\n",
    "plt.fill_between(x1_vals, np.minimum(x2_vals_trabajo, x2_vals_madera), 0, color='gray', alpha=0.3)\n",
    "\n",
    "# Marcar la solución óptima\n",
    "plt.scatter(10, 0, color=\"red\", zorder=3, label=\"Solución óptima (10,0)\")\n",
    "\n",
    "# Etiquetas y título\n",
    "plt.xlabel(r'$x_1$ (Sillas)')\n",
    "plt.ylabel(r'$x_2$ (Mesas)')\n",
    "plt.title(\"Región Factible y Solución Óptima\")\n",
    "plt.axhline(0, color='black', linewidth=1)\n",
    "plt.axvline(0, color='black', linewidth=1)\n",
    "plt.legend()\n",
    "plt.grid()\n",
    "\n",
    "# Mostrar el gráfico\n",
    "plt.show()\n"
   ]
  },
  {
   "cell_type": "markdown",
   "metadata": {},
   "source": [
    "### **📌 ¿Por qué despejamos \\( x_2 \\) y no \\( x_1 \\) en el método gráfico?**\n",
    "\n",
    "En el **método gráfico** de **programación lineal**, despejamos **\\( x_2 \\) en función de \\( x_1 \\)** para **facilitar la representación en un plano cartesiano**. La razón principal es que **las gráficas en 2D se suelen trazar en función de \\( x_1 \\) (eje horizontal) y \\( x_2 \\) (eje vertical)**.\n"
   ]
  },
  {
   "cell_type": "markdown",
   "metadata": {},
   "source": [
    "---\n",
    "## 🔥 Ejercicios Integradores\n",
    "Ahora es tu turno. Calcula las siguientes derivadas con sympy cada una en una celda de código y verifica tus resultados con `sympy.diff()`.\n",
    "\n",
    "### **Ejercicio 1 - Derivadas de funciones con exponentes fraccionarios**\n",
    "Calcula la derivada de la siguiente función y evalúala en \\( x = 1 \\):\n",
    "\n",
    "$$\n",
    "f(x) = x^{\\frac{3}{2}} + 5x^{\\frac{1}{3}} - e^{x^2}\n",
    "$$\n",
    "\n",
    "---\n",
    "\n",
    "### **Ejercicio 2 - Aplicación de la regla del producto y exponenciales**\n",
    "Deriva la siguiente función y evalúa en \\( x = 2 \\):\n",
    "\n",
    "$$\n",
    "g(x) = (x^3 + 2x) e^{\\sin x}\n",
    "$$\n",
    "\n",
    "---\n",
    "\n",
    "### **Ejercicio 3 - Regla del cociente con logaritmos y trigonometría**\n",
    "Calcula la derivada de la siguiente función y evalúala en \\( x = pi/4 \\):\n",
    "\n",
    "$$\n",
    "h(x) = \\frac{\\ln(x^2 + 1)}{\\tan x}\n",
    "$$\n",
    "\n",
    "---\n",
    "\n",
    "### **Ejercicio 4 - Regla de la cadena con funciones compuestas**\n",
    "Aplica la regla de la cadena para obtener la derivada y evalúa en \\( x = 1 \\):\n",
    "\n",
    "$$\n",
    "k(x) = \\sin^2(e^{x^3 + x})\n",
    "$$\n",
    "\n",
    "---\n",
    "\n",
    "### **Ejercicio 5 - Derivadas en finanzas y economía**\n",
    "Supongamos que una empresa modela su costo de producción con la siguiente función:\n",
    "\n",
    "$$\n",
    "C(x) = \\frac{x^3 + 10x}{\\ln(x+2)}\n",
    "$$\n",
    "\n",
    "Calcula \\( C'(x) \\) y evalúa en \\( x = 5 \\) para determinar la tasa de cambio del costo en esa producción.\n",
    "\n",
    "---\n",
    "\n",
    "### **Ejercicio 6 - Aplicaciones en Machine Learning**\n",
    "En redes neuronales, la función de activación **sigmoide** es:\n",
    "\n",
    "$$\n",
    "\\sigma(x) = \\frac{1}{1 + e^{-x}}\n",
    "$$\n",
    "\n",
    "Calcula su derivada  y evalúa en \\( x = 0 \\), \\( x = 2 \\), y \\( x = -2 \\).\n",
    "\n",
    "---"
   ]
  },
  {
   "cell_type": "code",
   "execution_count": 14,
   "metadata": {},
   "outputs": [
    {
     "name": "stdout",
     "output_type": "stream",
     "text": [
      "Derivada de la función: 1.66666666666667/x**0.666666666666667 + 1.5*x**0.5 - 2*x*exp(x**2)\n",
      "Evaluada en x = 1: 3.16666666666667 - 2*E\n"
     ]
    }
   ],
   "source": [
    "### **Ejercicio 1**\n",
    "import sympy as sp\n",
    "\n",
    "# Definir las variables\n",
    "x = sp.symbols('x')\n",
    "f = x**(3/2) + 5*x**(1/3) - sp.exp(x**2)\n",
    "\n",
    "# calcular la derivada\n",
    "df_dx = sp.diff(f, x)\n",
    "# Evaluar la derivada en x = 1\n",
    "resultado = df_dx.subs(x, 1)\n",
    "\n",
    "print(\"Derivada de la función:\", df_dx)\n",
    "print(\"Evaluada en x = 1:\", resultado)"
   ]
  },
  {
   "cell_type": "code",
   "execution_count": 16,
   "metadata": {},
   "outputs": [
    {
     "name": "stdout",
     "output_type": "stream",
     "text": [
      "derivada: (3*x**2 + 2)*exp(sin(x)) + (x**3 + 2*x)*exp(sin(x))*cos(x)\n",
      "evaluada en x = 2: 22.3586857762600\n"
     ]
    }
   ],
   "source": [
    "### **Ejercicio 2**\n",
    "\n",
    "import sympy as sp\n",
    "\n",
    "x = sp.symbols('x')\n",
    "g = (x**3 + 2*x) * sp.exp(sp.sin(x))\n",
    "dg_dx = sp.diff(g, x)\n",
    "resultado = dg_dx.subs(x, 2).evalf()\n",
    "\n",
    "print(\"derivada:\", dg_dx)\n",
    "print(\"evaluada en x = 2:\", resultado)"
   ]
  },
  {
   "cell_type": "code",
   "execution_count": 18,
   "metadata": {},
   "outputs": [
    {
     "name": "stdout",
     "output_type": "stream",
     "text": [
      "derivada: 2*x/((x**2 + 1)*tan(x)) + (-tan(x)**2 - 1)*log(x**2 + 1)/tan(x)**2\n",
      "evaluada en x = pi/4: 0.0105562925692653\n"
     ]
    }
   ],
   "source": [
    "### **Ejercicio 3**\n",
    "import sympy as sp\n",
    "\n",
    "x = sp.symbols('x')\n",
    "h = sp.ln(x**2 + 1) / sp.tan(x)\n",
    "dh_dx = sp.diff(h, x)\n",
    "resultado = dh_dx.subs(x, sp.pi/4).evalf()\n",
    "\n",
    "print(\"derivada:\", dh_dx)\n",
    "print(\"evaluada en x = pi/4:\", resultado)\n",
    "\n",
    "\n",
    "\n",
    "\n",
    "\n",
    "\n"
   ]
  },
  {
   "cell_type": "code",
   "execution_count": 20,
   "metadata": {},
   "outputs": [
    {
     "name": "stdout",
     "output_type": "stream",
     "text": [
      "La derivada de h(x) evaluada en x = 1 es: 23.6902270409460\n"
     ]
    }
   ],
   "source": [
    "### **Ejercicio 4**\n",
    "\n",
    "import sympy as sp\n",
    "\n",
    "x = sp.symbols('x')\n",
    "h = sp.sin(sp.exp(x**3 + x))**2\n",
    "dh_dx = sp.diff(h, x)\n",
    "resultado = dh_dx.subs(x, 1).evalf()\n",
    "\n",
    "print(\"La derivada de h(x) evaluada en x = 1 es:\", resultado)"
   ]
  },
  {
   "cell_type": "code",
   "execution_count": 21,
   "metadata": {},
   "outputs": [
    {
     "name": "stdout",
     "output_type": "stream",
     "text": [
      "La derivada de C(x) evaluada en x = 5 es: 37.0790714441694\n"
     ]
    }
   ],
   "source": [
    "### **Ejercicio 5**\n",
    "\n",
    "import sympy as sp\n",
    "\n",
    "x = sp.symbols('x')\n",
    "C = (x**3 + 10*x) / sp.ln(x + 2)\n",
    "dC_dx = sp.diff(C, x)\n",
    "resultado = dC_dx.subs(x, 5).evalf()\n",
    "\n",
    "print(\"La derivada de C(x) evaluada en x = 5 es:\", resultado)"
   ]
  },
  {
   "cell_type": "code",
   "execution_count": 22,
   "metadata": {},
   "outputs": [
    {
     "name": "stdout",
     "output_type": "stream",
     "text": [
      "La derivada de σ(x) evaluada en x = 0 es: 0.250000000000000\n",
      "La derivada de σ(x) evaluada en x = 2 es: 0.104993585403507\n",
      "La derivada de σ(x) evaluada en x = -2 es: 0.104993585403507\n"
     ]
    }
   ],
   "source": [
    "### **Ejercicio 6**\n",
    "\n",
    "import sympy as sp\n",
    "\n",
    "x = sp.symbols('x')\n",
    "sigma = 1 / (1 + sp.exp(-x))\n",
    "d_sigma_dx = sp.diff(sigma, x)\n",
    "\n",
    "resultado_0 = d_sigma_dx.subs(x, 0).evalf()\n",
    "resultado_2 = d_sigma_dx.subs(x, 2).evalf()\n",
    "resultado_neg2 = d_sigma_dx.subs(x, -2).evalf()\n",
    "\n",
    "print(\"La derivada de σ(x) evaluada en x = 0 es:\", resultado_0)\n",
    "print(\"La derivada de σ(x) evaluada en x = 2 es:\", resultado_2)\n",
    "print(\"La derivada de σ(x) evaluada en x = -2 es:\", resultado_neg2)"
   ]
  },
  {
   "cell_type": "markdown",
   "metadata": {},
   "source": [
    "### 📘 **Ejercicio 7 Programación Lineal**\n",
    "\n",
    "En este ejercicio resolverás un problema de optimización lineal utilizando dos métodos:\n",
    "- **Método Numérico**: Usando `scipy.optimize.linprog`.\n",
    "- **Método Visual**: Representando gráficamente la región factible.\n",
    "\n",
    "---\n",
    "## 🔹 **Planteamiento del Problema**\n",
    "Una empresa fabrica **cajas grandes** y **cajas pequeñas**. Cada caja grande genera **$7 de ganancia** y cada caja pequeña **$4**. \n",
    "\n",
    "### **Restricciones:**\n",
    "- **Disponibilidad de cartón**: Se tienen **50 unidades de cartón**.\n",
    "- **Disponibilidad de mano de obra**: Hay **30 horas disponibles**.\n",
    "\n",
    "Cada tipo de caja requiere los siguientes recursos:\n",
    "- **Caja grande**: 5 unidades de cartón y 2 horas de trabajo.\n",
    "- **Caja pequeña**: 3 unidades de cartón y 4 horas de trabajo.\n",
    "\n",
    "📌 **Objetivo**: Determinar cuántas **cajas grandes** y **cajas pequeñas** deben producirse para **maximizar la ganancia**.\n",
    "\n",
    "Resuelve el ejercicio en las celdas markdown/python que sean necesarias a partir de la siguiente:"
   ]
  },
  {
   "cell_type": "code",
   "execution_count": 23,
   "metadata": {},
   "outputs": [
    {
     "data": {
      "text/plain": [
       "(np.float64(10.0), np.float64(0.0), 70.0)"
      ]
     },
     "execution_count": 23,
     "metadata": {},
     "output_type": "execute_result"
    }
   ],
   "source": [
    "import numpy as np\n",
    "from scipy.optimize import linprog\n",
    "\n",
    "# coeficientes de la funcion objetivo (negados porque linprog minimiza)\n",
    "c = [-7, -4]\n",
    "\n",
    "# coeficientes de las restricciones\n",
    "A = [[5, 3], [2, 4]]\n",
    "b = [50, 30]\n",
    "\n",
    "# limites de las variables (no negativas)\n",
    "x_bounds = (0, None)\n",
    "\n",
    "# resolver el problema\n",
    "res = linprog(c, A_ub=A, b_ub=b, bounds=[x_bounds, x_bounds], method='highs')\n",
    "\n",
    "# resultados\n",
    "cajas_grandes = res.x[0]\n",
    "cajas_pequenas = res.x[1]\n",
    "ganancia_maxima = -res.fun\n",
    "\n",
    "cajas_grandes, cajas_pequenas, ganancia_maxima"
   ]
  },
  {
   "cell_type": "code",
   "execution_count": 24,
   "metadata": {},
   "outputs": [
    {
     "data": {
      "image/png": "[encoded data removed]",
      "text/plain": [
       "<Figure size 1000x600 with 1 Axes>"
      ]
     },
     "metadata": {},
     "output_type": "display_data"
    }
   ],
   "source": [
    "import matplotlib.pyplot as plt\n",
    "\n",
    "# definimos los limites de las restricciones\n",
    "x = np.linspace(0, 15, 400)\n",
    "\n",
    "# restricciones\n",
    "y1 = (50 - 5*x) / 3  # carton\n",
    "y2 = (30 - 2*x) / 4  # mano de obra\n",
    "\n",
    "# graficar las restricciones\n",
    "plt.figure(figsize=(10, 6))\n",
    "plt.plot(x, y1, label='5x1 + 3x2 ≤ 50 (carton)', color='blue')\n",
    "plt.plot(x, y2, label='2x1 + 4x2 ≤ 30 (mano de obra)', color='orange')\n",
    "\n",
    "# rellenar la region factible\n",
    "plt.fill_between(x, np.minimum(y1, y2), 0, where=(np.minimum(y1, y2) >= 0), color='gray', alpha=0.5)\n",
    "\n",
    "# lineas de nivel de la funcion objetivo\n",
    "Z = 7*x + 4*(30 - 2*x)/4  # ganancia maxima en funcion de x1\n",
    "plt.plot(x, Z, label='ganancia Z = 7x1 + 4x2', color='green', linestyle='--')\n",
    "\n",
    "# configuracion del grafico\n",
    "plt.xlim(0, 15)\n",
    "plt.ylim(0, 15)\n",
    "plt.xlabel('cajas grandes (x1)')\n",
    "plt.ylabel('cajas pequenas (x2)')\n",
    "plt.title('region factible y funcion objetivo')\n",
    "plt.axhline(0, color='black',linewidth=0.5, ls='--')\n",
    "plt.axvline(0, color='black',linewidth=0.5, ls='--')\n",
    "plt.grid()\n",
    "plt.legend()\n",
    "plt.show()"
   ]
  },
  {
   "cell_type": "markdown",
   "metadata": {},
   "source": [
    "🔥 Preguntas para Reflexión\n",
    "1️⃣ Método Numérico: ¿Cuáles son los valores óptimos de producción obtenidos con linprog? ¿Cómo se interpreta la ganancia máxima?\n",
    "Los valores óptimos de producción obtenidos con linprog son 10 cajas grandes y 0 cajas pequeñas. Esto significa que, para maximizar la ganancia, la empresa debería enfocarse en producir solo cajas grandes. La ganancia máxima de $70 se interpreta como el beneficio total que la empresa obtendría al seguir esta estrategia de producción.\n",
    "\n",
    "2️⃣ Método Visual: ¿Coincide la solución gráfica con la obtenida numéricamente? ¿Cómo podrías verificar la solución visualmente?\n",
    "Sí, la solución gráfica debería coincidir con la obtenida numéricamente. Para verificar la solución visualmente, podrías observar el punto donde la línea de la función objetivo (ganancia) es tangente a la región factible. Este punto de tangencia representa la solución óptima, que en este caso debería ser el mismo punto que obtuviste con el método numérico.\n",
    "\n",
    "3️⃣ Interpretación: ¿Cómo impactarían cambios en la disponibilidad de cartón o mano de obra en la solución?\n",
    "Si hay cambios en la disponibilidad de cartón o mano de obra, esto podría afectar la solución óptima. Por ejemplo, si se reduce la cantidad de cartón disponible, la empresa podría verse obligada a producir menos cajas grandes, lo que podría disminuir la ganancia máxima. Por otro lado, si se aumenta la disponibilidad de mano de obra, podría ser posible producir más cajas pequeñas, lo que también podría cambiar la combinación óptima de producción.\n",
    "\n",
    "4️⃣ Extensión: ¿Cómo modificarías el modelo si la empresa decide producir un tercer tipo de caja con nuevas restricciones?\n",
    "Si la empresa decide producir un tercer tipo de caja, tendríamos que modificar el modelo para incluir nuevas variables y restricciones. Esto implicaría definir cuántas unidades de cartón y horas de trabajo requiere este nuevo tipo de caja, así como su ganancia por unidad. Luego, tendríamos que ajustar la función objetivo y las restricciones para reflejar esta nueva situación, asegurándonos de que la solución siga maximizando la ganancia total."
   ]
  },
  {
   "cell_type": "markdown",
   "metadata": {},
   "source": [
    "### 📘 **Ejercicio 8 (Avanzado de Programación Lineal)**\n",
    "\n",
    "En este ejercicio resolverás un problema complejo de optimización lineal utilizando:\n",
    "- **Método Numérico**: `scipy.optimize.linprog`.\n",
    "\n",
    "El método visual no será necesario porque son 3 variables. \n",
    "\n",
    "---\n",
    "## 🔹 **Planteamiento del Problema**\n",
    "Una empresa fabrica **tres tipos de productos**: **A, B y C**. \n",
    "Cada producto genera una ganancia distinta:\n",
    "- **Producto A**: $10 de ganancia\n",
    "- **Producto B**: $15 de ganancia\n",
    "- **Producto C**: $25 de ganancia\n",
    "\n",
    "### **Restricciones:**\n",
    "- **Disponibilidad de materia prima**: 80 unidades disponibles.\n",
    "- **Disponibilidad de horas de trabajo**: 100 horas disponibles.\n",
    "- **Capacidad de producción diaria**: Máximo 30 unidades en total.\n",
    "\n",
    "Cada producto requiere los siguientes recursos:\n",
    "| Producto | Materia Prima | Horas de Trabajo |\n",
    "|----------|--------------|------------------|\n",
    "| A        | 4            | 5                |\n",
    "| B        | 6            | 3                |\n",
    "| C        | 5            | 8                |\n",
    "\n",
    "📌 **Objetivo**: Determinar cuántas unidades de cada producto deben producirse para **maximizar la ganancia**.\n",
    "\n",
    "Resuelve el ejercicio en las celdas markdown/python que sean necesarias a partir de la siguiente:"
   ]
  },
  {
   "cell_type": "code",
   "execution_count": 26,
   "metadata": {},
   "outputs": [
    {
     "data": {
      "text/plain": [
       "(np.float64(0.0),\n",
       " np.float64(4.242424242424242),\n",
       " np.float64(10.90909090909091),\n",
       " 336.3636363636364)"
      ]
     },
     "execution_count": 26,
     "metadata": {},
     "output_type": "execute_result"
    }
   ],
   "source": [
    "import numpy as np\n",
    "from scipy.optimize import linprog\n",
    "\n",
    "# Coeficientes de la funcion objetivo (negados porque linprog minimiza)\n",
    "c = [-10, -15, -25]\n",
    "\n",
    "# Coeficientes de las restricciones\n",
    "A = [\n",
    "    [4, 6, 5],  # materia prima\n",
    "    [5, 3, 8],  # horas de trabajo\n",
    "    [1, 1, 1]   # capacidad de produccion\n",
    "]\n",
    "b = [80, 100, 30]\n",
    "\n",
    "# Limites de las variables (no negativas)\n",
    "x_bounds = (0, None)\n",
    "\n",
    "# Resolver el problema\n",
    "res = linprog(c, A_ub=A, b_ub=b, bounds=[x_bounds, x_bounds, x_bounds], method='highs')\n",
    "\n",
    "# Resultados\n",
    "unidades_A = res.x[0]\n",
    "unidades_B = res.x[1]\n",
    "unidades_C = res.x[2]\n",
    "ganancia_maxima = -res.fun\n",
    "\n",
    "unidades_A, unidades_B, unidades_C, ganancia_maxima"
   ]
  },
  {
   "cell_type": "markdown",
   "metadata": {},
   "source": [
    "🔥 Preguntas para Reflexión\n",
    "\n",
    "\n",
    "1️⃣ Método Numérico: ¿Cuáles son los valores óptimos de producción obtenidos con linprog? ¿Cómo se interpreta la ganancia máxima?\n",
    "Los valores óptimos de produccion que obtienes con linprog te dicen cuantas unidades de cada producto (A, B y C) deberias fabricar para maximizar la ganancia. La ganancia maxima se interpreta como el beneficio total que la empresa tendria al seguir esta estrategia de produccion. Por ejemplo, si el resultado indica que debes producir 10 unidades de A, 5 de B y 15 de C, la ganancia maxima seria la suma de las ganancias generadas por esas cantidades.\n",
    "\n",
    "2️⃣ Interpretación: ¿Cómo cambiaría la solución si la disponibilidad de materia prima aumenta a 100 unidades?\n",
    "Si la disponibilidad de materia prima aumenta a 100 unidades, es probable que la solucion optima cambie, permitiendo producir mas unidades de los productos. Esto podria resultar en una mayor ganancia, ya que tendrias mas flexibilidad para ajustar la produccion de A, B y C. La nueva solucion dependeria de como se distribuyen los recursos entre los productos, pero en general, se esperaria que la ganancia maxima aumentara.\n",
    "\n",
    "4️⃣ Extensión: Si agregáramos restricciones de almacenamiento o demanda mínima de productos, ¿cómo modificarías el modelo?\n",
    "Si se agregan restricciones de almacenamiento o demanda minima de productos, tendriamos que incluir nuevas variables y restricciones en el modelo. Por ejemplo, podriamos definir una nueva restriccion que limite la cantidad maxima de productos que se pueden almacenar. Tambien podriamos establecer restricciones que aseguren que se produzca un minimo de cada producto para satisfacer la demanda. Esto implicaria ajustar la funcion objetivo y las restricciones para reflejar estas nuevas condiciones, asegurando que la solucion siga maximizando la ganancia total."
   ]
  },
  {
   "cell_type": "markdown",
   "metadata": {},
   "source": []
  }
 ],
 "metadata": {
  "kernelspec": {
   "display_name": ".venv",
   "language": "python",
   "name": "python3"
  },
  "language_info": {
   "codemirror_mode": {
    "name": "ipython",
    "version": 3
   },
   "file_extension": ".py",
   "mimetype": "text/x-python",
   "name": "python",
   "nbconvert_exporter": "python",
   "pygments_lexer": "ipython3",
   "version": "3.13.1"
  }
 },
 "nbformat": 4,
 "nbformat_minor": 2
}
